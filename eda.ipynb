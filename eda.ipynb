{
 "cells": [
  {
   "cell_type": "markdown",
   "metadata": {},
   "source": [
    "# Machine Learning Problem Statement\n",
    "\n",
    "Retaining existing customers is one of the most important key performance indicators (KPIs) for businesses that operate using a subscription-based business model. \n",
    "\n",
    "The SaaS industry is particularly difficult to compete in because customers have the freedom to select from a large number of service providers. \n",
    "\n",
    "A single negative interaction is all it takes for a consumer to decide to switch to a competitor, resulting in customer churn.\n",
    "\n",
    "\n",
    "The percentage of a company’s clientele that stops purchasing the company’s goods or services during a specified period of time is referred to as “customer churn.” One method for determining a company’s churn rate is to divide the total number of customers who cancelled their subscriptions during a specific time period by the total number of subscribers who were still active at the start of the period. For instance, if you had 1000 clients at the beginning of the month and lost 50 of them, your churn rate for the month would be 5%.\n",
    "\n",
    "\n",
    "# Source \n",
    "\n",
    "https://www.kaggle.com/blastchar/telco-customer-churn\n",
    "\n",
    "# Goal\n",
    "\n",
    "Employee Attrition Prediction task to determine which employee could  gone\n",
    "\n",
    "\n",
    "\n",
    "\n",
    "# Metrics\n",
    " \n",
    " \n",
    " F1 = 60% et Recall = 75% \n",
    "\n",
    "### Recall \n",
    "\n",
    "F1 is the ratio between precision and recall.\n",
    "\n",
    "the reminder helps to minimize false negatives.\n",
    "\n",
    "precision helps minimize false positives."
   ]
  },
  {
   "cell_type": "markdown",
   "metadata": {},
   "source": [
    "EXPLORATORY DATA ANALYSIS\n",
    "\n",
    "Objectif:\n",
    "\n",
    "Mieux comprendre nos données\n",
    "pour etablir une stratégie de modélisation\n",
    "Analyse de la forme :\n",
    "\n",
    "Identification de la target : class\n",
    "Classes légèrement équilibrés (1 un peu plus de 63 % , 0 un peu plus de 36 %)\n",
    "Nombre de lignes et de colonnes :7043, 21 \n",
    "Types de variables : qualitatives : 7 , quantitatives : 13\n",
    "Analyse des valeurs manquantes :\n",
    "\n",
    "Des NaN (Deux variables hover_duration et page > 90% de NaN)\n",
    "Deux grands groupes de données (0% de Nans et un groupe 0.09447)\n",
    "Un groupe de ( deux variables text et text_fqid avec 0.65262 de Nans)\n",
    "Une variable fqid avec 0.31617\n",
    "Analyse du fond :\n",
    "\n",
    "Visualisation de la target (Histogramme / Boxplot)\n",
    "Comprehension des différentes variables (Internet -- Kaggle discusion )\n",
    "quelques variables continues standardisées , skewed (asymétriques) suivant une loi normale\n",
    "Variable qualitative :elles ne sont pas binaire , ce sont des variables qui possèdent plusieurs categories et la variable texte en possède le plus (énorme) ** Relation Variables / Target **\n",
    "target/Medium_na : les variables text et text_fqid semblent liés a la performance des élèves\n",
    "target/Little_na : Les room_coordonnées et les screens_coordonnées x , y semblent etres liés a la performance des élèves\n",
    "target/zero_na : les variables music , hq , level_group semblent avoir un lien avec la performance des élèves (Hypothèse à tester)\n",
    "Visualisation des relations variables -target(Histogramme/Boxplot)\n",
    "Identification des outliers\n",
    "\n",
    "\n",
    "Conclusion :\n",
    "\n",
    "Une feature engineering avec les variables\n",
    "\n",
    "-- room_coord , screen_coord peuvent apporter des informations supplémentaires pour nous permettre de répondre à la question\n",
    "\n",
    "-- Les variables text et text_fqid peuvent également nous apporter beaucoup d'informations puisqu'ils ont plusieurs categories à étudier\n",
    "\n",
    "-- Enfin les variables music , hq , level_group sont très liés à la performance"
   ]
  },
  {
   "cell_type": "code",
   "execution_count": 13,
   "metadata": {},
   "outputs": [],
   "source": [
    "## Load EDA\n",
    "import polars as pl \n",
    "import pandas as pd \n",
    "import numpy as np \n",
    "import matplotlib.pyplot as plt \n",
    "import seaborn as sns   \n",
    "from pathlib import Path\n",
    "%matplotlib inline  \n"
   ]
  },
  {
   "cell_type": "code",
   "execution_count": 11,
   "metadata": {},
   "outputs": [
    {
     "name": "stdout",
     "output_type": "stream",
     "text": [
      "0.20.8\n"
     ]
    }
   ],
   "source": [
    "import polars as pl \n",
    "\n",
    "print(pl.__version__)"
   ]
  },
  {
   "cell_type": "code",
   "execution_count": 26,
   "metadata": {},
   "outputs": [],
   "source": [
    "THIS_DIR : str = '../MLoPsMlflowDagshubPycaret'\n",
    "\n",
    "CUSTOMER_CHURN_CSV_FPATH : str  = THIS_DIR  + '/data/customer_churn_data.csv'"
   ]
  },
  {
   "cell_type": "code",
   "execution_count": 31,
   "metadata": {},
   "outputs": [],
   "source": [
    "#reader_features = pl.read_csv_batched(\n",
    "    #CUSTOMER_CHURN_CSV_FPATH\n",
    "#)  \n",
    "#features_data = reader_features.next_batches(100)  \n",
    "\n",
    "\n",
    "#features_data = pl.concat(features_data)\n",
    "\n",
    "data = pl.read_csv(CUSTOMER_CHURN_CSV_FPATH)\n"
   ]
  },
  {
   "cell_type": "code",
   "execution_count": 33,
   "metadata": {},
   "outputs": [],
   "source": [
    "df = data.clone()"
   ]
  },
  {
   "cell_type": "code",
   "execution_count": 34,
   "metadata": {},
   "outputs": [
    {
     "data": {
      "text/plain": [
       "[String,\n",
       " String,\n",
       " Int64,\n",
       " String,\n",
       " String,\n",
       " Int64,\n",
       " String,\n",
       " String,\n",
       " String,\n",
       " String,\n",
       " String,\n",
       " String,\n",
       " String,\n",
       " String,\n",
       " String,\n",
       " String,\n",
       " String,\n",
       " String,\n",
       " Float64,\n",
       " Float64,\n",
       " String]"
      ]
     },
     "execution_count": 34,
     "metadata": {},
     "output_type": "execute_result"
    }
   ],
   "source": [
    "df.dtypes"
   ]
  },
  {
   "cell_type": "code",
   "execution_count": 35,
   "metadata": {},
   "outputs": [
    {
     "data": {
      "text/plain": [
       "(7043, 21)"
      ]
     },
     "execution_count": 35,
     "metadata": {},
     "output_type": "execute_result"
    }
   ],
   "source": [
    "\n",
    "df.shape # Nombre de lignes , Nombre de colonnes : dimensionalite du dataset"
   ]
  },
  {
   "cell_type": "code",
   "execution_count": 36,
   "metadata": {},
   "outputs": [
    {
     "ename": "AttributeError",
     "evalue": "'list' object has no attribute 'value_counts'",
     "output_type": "error",
     "traceback": [
      "\u001b[0;31m---------------------------------------------------------------------------\u001b[0m",
      "\u001b[0;31mAttributeError\u001b[0m                            Traceback (most recent call last)",
      "Cell \u001b[0;32mIn[36], line 1\u001b[0m\n\u001b[0;32m----> 1\u001b[0m \u001b[43mdf\u001b[49m\u001b[38;5;241;43m.\u001b[39;49m\u001b[43mdtypes\u001b[49m\u001b[38;5;241;43m.\u001b[39;49m\u001b[43mvalue_counts\u001b[49m()\n",
      "\u001b[0;31mAttributeError\u001b[0m: 'list' object has no attribute 'value_counts'"
     ]
    }
   ],
   "source": [
    "df.dtypes.value_counts()"
   ]
  }
 ],
 "metadata": {
  "kernelspec": {
   "display_name": "Python 3",
   "language": "python",
   "name": "python3"
  },
  "language_info": {
   "codemirror_mode": {
    "name": "ipython",
    "version": 3
   },
   "file_extension": ".py",
   "mimetype": "text/x-python",
   "name": "python",
   "nbconvert_exporter": "python",
   "pygments_lexer": "ipython3",
   "version": "3.12.0"
  }
 },
 "nbformat": 4,
 "nbformat_minor": 2
}
